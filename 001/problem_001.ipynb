{
 "cells": [
  {
   "cell_type": "markdown",
   "id": "334e542d",
   "metadata": {
    "slideshow": {
     "slide_type": "skip"
    }
   },
   "source": [
    "# Source: https://www.youtube.com/watch?v=8XLEI9Phx3U"
   ]
  },
  {
   "cell_type": "markdown",
   "id": "6ce5ca48",
   "metadata": {
    "slideshow": {
     "slide_type": "slide"
    }
   },
   "source": [
    "# Problem definition\n",
    "## Suppose\n",
    "$\\LARGE x^2 = 17x + y, \\quad \\LARGE y^2 = x + 17y, \\quad \\LARGE x \\ne y$\n",
    "\n",
    "## Find\n",
    "$\\LARGE z = \\sqrt{x^2 + y^2 + 1}$"
   ]
  },
  {
   "cell_type": "markdown",
   "id": "2e4117b4",
   "metadata": {
    "slideshow": {
     "slide_type": "slide"
    }
   },
   "source": [
    "# Import `sympy` - a library for symbolic mathematics"
   ]
  },
  {
   "cell_type": "code",
   "execution_count": 1,
   "id": "c2128f39",
   "metadata": {
    "slideshow": {
     "slide_type": "fragment"
    }
   },
   "outputs": [],
   "source": [
    "import sympy as sym\n",
    "sym.init_printing() # setting up pretty printing"
   ]
  },
  {
   "cell_type": "markdown",
   "id": "48845ea6",
   "metadata": {
    "slideshow": {
     "slide_type": "fragment"
    }
   },
   "source": [
    "# Define symbolic variables `x` and `y`"
   ]
  },
  {
   "cell_type": "code",
   "execution_count": 2,
   "id": "de853c1d",
   "metadata": {
    "slideshow": {
     "slide_type": "fragment"
    }
   },
   "outputs": [],
   "source": [
    "x, y = sym.symbols('x, y')"
   ]
  },
  {
   "cell_type": "markdown",
   "id": "af421568",
   "metadata": {
    "slideshow": {
     "slide_type": "fragment"
    }
   },
   "source": [
    "# Write down the equations"
   ]
  },
  {
   "cell_type": "markdown",
   "id": "de581a81",
   "metadata": {
    "slideshow": {
     "slide_type": "fragment"
    }
   },
   "source": [
    "## Rewrite\n",
    "$\\large x^2 = 17x + y \\quad \\Rightarrow \\quad x^2 - 17x - y = 0$\n",
    "\n",
    "$\\large y^2 = x + 17y \\quad \\Rightarrow \\quad y^2 - x - 17y = 0$"
   ]
  },
  {
   "cell_type": "code",
   "execution_count": 3,
   "id": "d484d41f",
   "metadata": {
    "slideshow": {
     "slide_type": "fragment"
    }
   },
   "outputs": [],
   "source": [
    "eq_1 = x**2 - 17*x - y"
   ]
  },
  {
   "cell_type": "code",
   "execution_count": 4,
   "id": "7417bc99",
   "metadata": {
    "slideshow": {
     "slide_type": "fragment"
    }
   },
   "outputs": [],
   "source": [
    "eq_2 = y**2 - x - 17*y"
   ]
  },
  {
   "cell_type": "markdown",
   "id": "d83df2aa",
   "metadata": {
    "slideshow": {
     "slide_type": "slide"
    }
   },
   "source": [
    "# Solve the equations"
   ]
  },
  {
   "cell_type": "code",
   "execution_count": 5,
   "id": "9416647e",
   "metadata": {
    "slideshow": {
     "slide_type": "fragment"
    }
   },
   "outputs": [],
   "source": [
    "solution = sym.solve((eq_1, eq_2), (x, y))"
   ]
  },
  {
   "cell_type": "markdown",
   "id": "4976766e",
   "metadata": {
    "slideshow": {
     "slide_type": "fragment"
    }
   },
   "source": [
    "# Display the solutions"
   ]
  },
  {
   "cell_type": "code",
   "execution_count": 6,
   "id": "d63f82a9",
   "metadata": {
    "slideshow": {
     "slide_type": "fragment"
    }
   },
   "outputs": [
    {
     "data": {
      "image/png": "[encoded data removed]",
      "text/latex": [
       "$\\displaystyle \\left( 0, \\  0\\right)$"
      ],
      "text/plain": [
       "(0, 0)"
      ]
     },
     "metadata": {},
     "output_type": "display_data"
    },
    {
     "data": {
      "image/png": "[encoded data removed]",
      "text/latex": [
       "$\\displaystyle \\left( 18, \\  18\\right)$"
      ],
      "text/plain": [
       "(18, 18)"
      ]
     },
     "metadata": {},
     "output_type": "display_data"
    },
    {
     "data": {
      "image/png": "[encoded data removed]",
      "text/latex": [
       "$\\displaystyle \\left( \\left(-9 - 4 \\sqrt{5}\\right) \\left(8 - 4 \\sqrt{5}\\right), \\  8 - 4 \\sqrt{5}\\right)$"
      ],
      "text/plain": [
       "((-9 - 4⋅√5)⋅(8 - 4⋅√5), 8 - 4⋅√5)"
      ]
     },
     "metadata": {},
     "output_type": "display_data"
    },
    {
     "data": {
      "image/png": "[encoded data removed]",
      "text/latex": [
       "$\\displaystyle \\left( \\left(-9 + 4 \\sqrt{5}\\right) \\left(8 + 4 \\sqrt{5}\\right), \\  8 + 4 \\sqrt{5}\\right)$"
      ],
      "text/plain": [
       "((-9 + 4⋅√5)⋅(8 + 4⋅√5), 8 + 4⋅√5)"
      ]
     },
     "metadata": {},
     "output_type": "display_data"
    }
   ],
   "source": [
    "from IPython.display import display\n",
    "for s in solution:\n",
    "    display(s)"
   ]
  },
  {
   "cell_type": "markdown",
   "id": "5abf6db5",
   "metadata": {
    "slideshow": {
     "slide_type": "slide"
    }
   },
   "source": [
    "# Select solutions where $\\large x \\ne y$"
   ]
  },
  {
   "cell_type": "code",
   "execution_count": 7,
   "id": "54ee6276",
   "metadata": {
    "slideshow": {
     "slide_type": "fragment"
    }
   },
   "outputs": [],
   "source": [
    "z = []\n",
    "for x, y in solution:\n",
    "    if x != y:\n",
    "        z.append(sym.sqrt(x**2 + y**2 + 1))"
   ]
  },
  {
   "cell_type": "markdown",
   "id": "a247ffc7",
   "metadata": {
    "slideshow": {
     "slide_type": "fragment"
    }
   },
   "source": [
    "# Display $\\large z$"
   ]
  },
  {
   "cell_type": "code",
   "execution_count": 8,
   "id": "9482b1de",
   "metadata": {
    "slideshow": {
     "slide_type": "fragment"
    }
   },
   "outputs": [
    {
     "data": {
      "image/png": "[encoded data removed]",
      "text/latex": [
       "$\\displaystyle \\left[ \\sqrt{\\left(8 - 4 \\sqrt{5}\\right)^{2} + 1 + \\left(-9 - 4 \\sqrt{5}\\right)^{2} \\left(8 - 4 \\sqrt{5}\\right)^{2}}, \\  \\sqrt{\\left(-9 + 4 \\sqrt{5}\\right)^{2} \\left(8 + 4 \\sqrt{5}\\right)^{2} + 1 + \\left(8 + 4 \\sqrt{5}\\right)^{2}}\\right]$"
      ],
      "text/plain": [
       "⎡   ____________________________________________     _________________________\n",
       "⎢  ╱           2                  2           2     ╱            2           2\n",
       "⎣╲╱  (8 - 4⋅√5)  + 1 + (-9 - 4⋅√5) ⋅(8 - 4⋅√5)  , ╲╱  (-9 + 4⋅√5) ⋅(8 + 4⋅√5) \n",
       "\n",
       "___________________⎤\n",
       "                 2 ⎥\n",
       " + 1 + (8 + 4⋅√5)  ⎦"
      ]
     },
     "execution_count": 8,
     "metadata": {},
     "output_type": "execute_result"
    }
   ],
   "source": [
    "z"
   ]
  },
  {
   "cell_type": "markdown",
   "id": "20230adb",
   "metadata": {
    "slideshow": {
     "slide_type": "fragment"
    }
   },
   "source": [
    "# Simplify $\\large z$"
   ]
  },
  {
   "cell_type": "code",
   "execution_count": 9,
   "id": "a398acab",
   "metadata": {
    "slideshow": {
     "slide_type": "fragment"
    }
   },
   "outputs": [
    {
     "data": {
      "image/png": "[encoded data removed]",
      "text/latex": [
       "$\\displaystyle 17$"
      ],
      "text/plain": [
       "17"
      ]
     },
     "execution_count": 9,
     "metadata": {},
     "output_type": "execute_result"
    }
   ],
   "source": [
    "sym.simplify(z[0])"
   ]
  },
  {
   "cell_type": "code",
   "execution_count": 10,
   "id": "cf866ba3",
   "metadata": {
    "slideshow": {
     "slide_type": "fragment"
    }
   },
   "outputs": [
    {
     "data": {
      "image/png": "[encoded data removed]",
      "text/latex": [
       "$\\displaystyle 17$"
      ],
      "text/plain": [
       "17"
      ]
     },
     "execution_count": 10,
     "metadata": {},
     "output_type": "execute_result"
    }
   ],
   "source": [
    "sym.simplify(z[1])"
   ]
  },
  {
   "cell_type": "markdown",
   "id": "78d49a80",
   "metadata": {
    "slideshow": {
     "slide_type": "slide"
    }
   },
   "source": [
    "# Result\n",
    "$\\LARGE z = \\sqrt{x^2 + y^2 + 1} = 17$"
   ]
  }
 ],
 "metadata": {
  "celltoolbar": "Slideshow",
  "kernelspec": {
   "display_name": "Python 3",
   "language": "python",
   "name": "python3"
  },
  "language_info": {
   "codemirror_mode": {
    "name": "ipython",
    "version": 3
   },
   "file_extension": ".py",
   "mimetype": "text/x-python",
   "name": "python",
   "nbconvert_exporter": "python",
   "pygments_lexer": "ipython3",
   "version": "3.7.10"
  },
  "rise": {
   "transition": "zoom"
  }
 },
 "nbformat": 4,
 "nbformat_minor": 5
}
